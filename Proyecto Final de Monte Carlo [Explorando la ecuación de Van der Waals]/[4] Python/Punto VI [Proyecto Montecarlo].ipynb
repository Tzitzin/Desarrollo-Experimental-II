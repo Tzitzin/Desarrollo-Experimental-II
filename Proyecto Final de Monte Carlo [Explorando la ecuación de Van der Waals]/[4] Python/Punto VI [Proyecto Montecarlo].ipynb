{
 "cells": [
  {
   "cell_type": "markdown",
   "metadata": {},
   "source": [
    "# Punto VI del proyecto final de Monte Carlo\n",
    "\n",
    "## Calcular el coeficiente a(n) (reducido)\n",
    "$$\n",
    "a^{*}(n^{*}) = \\frac{2\\pi}{T^{*}}\\int_{1}^{\\lambda}g_{HS}(r^{*})r^{*^2}dr^{*}\n",
    "$$\n",
    "\n"
   ]
  },
  {
   "cell_type": "code",
   "execution_count": 2,
   "metadata": {},
   "outputs": [],
   "source": [
    "import pandas as pd \n",
    "import numpy as np \n",
    "import statsmodels.api as sm\n",
    "import matplotlib as plt \n",
    "from pylab import figure, show, legend, ylabel\n",
    "import numpy as np\n",
    "import matplotlib.pyplot as plt\n",
    "from matplotlib import pyplot as plt\n",
    "from matplotlib import rc\n",
    "import scipy.stats as stats\n",
    "from datetime import datetime\n",
    "from scipy import integrate\n",
    "%matplotlib inline"
   ]
  },
  {
   "cell_type": "markdown",
   "metadata": {},
   "source": [
    "# LECTURA Y FORMATO DE ARCHIVO"
   ]
  },
  {
   "cell_type": "code",
   "execution_count": 4,
   "metadata": {},
   "outputs": [
    {
     "data": {
      "text/html": [
       "<div>\n",
       "<style scoped>\n",
       "    .dataframe tbody tr th:only-of-type {\n",
       "        vertical-align: middle;\n",
       "    }\n",
       "\n",
       "    .dataframe tbody tr th {\n",
       "        vertical-align: top;\n",
       "    }\n",
       "\n",
       "    .dataframe thead th {\n",
       "        text-align: right;\n",
       "    }\n",
       "</style>\n",
       "<table border=\"1\" class=\"dataframe\">\n",
       "  <thead>\n",
       "    <tr style=\"text-align: right;\">\n",
       "      <th></th>\n",
       "      <th>TIME</th>\n",
       "      <th>WT</th>\n",
       "      <th>DIF</th>\n",
       "    </tr>\n",
       "  </thead>\n",
       "  <tbody>\n",
       "    <tr>\n",
       "      <th>0</th>\n",
       "      <td>0.002</td>\n",
       "      <td>0.002000</td>\n",
       "      <td>0.999919</td>\n",
       "    </tr>\n",
       "    <tr>\n",
       "      <th>1</th>\n",
       "      <td>0.004</td>\n",
       "      <td>0.003998</td>\n",
       "      <td>0.999387</td>\n",
       "    </tr>\n",
       "    <tr>\n",
       "      <th>2</th>\n",
       "      <td>0.006</td>\n",
       "      <td>0.005996</td>\n",
       "      <td>0.999306</td>\n",
       "    </tr>\n",
       "    <tr>\n",
       "      <th>3</th>\n",
       "      <td>0.008</td>\n",
       "      <td>0.007997</td>\n",
       "      <td>0.999678</td>\n",
       "    </tr>\n",
       "    <tr>\n",
       "      <th>4</th>\n",
       "      <td>0.010</td>\n",
       "      <td>0.010000</td>\n",
       "      <td>0.999994</td>\n",
       "    </tr>\n",
       "  </tbody>\n",
       "</table>\n",
       "</div>"
      ],
      "text/plain": [
       "    TIME        WT       DIF\n",
       "0  0.002  0.002000  0.999919\n",
       "1  0.004  0.003998  0.999387\n",
       "2  0.006  0.005996  0.999306\n",
       "3  0.008  0.007997  0.999678\n",
       "4  0.010  0.010000  0.999994"
      ]
     },
     "execution_count": 4,
     "metadata": {},
     "output_type": "execute_result"
    }
   ],
   "source": [
    "# LECTURA DEL ARCHIVO ----------------------------------------------------------------------------\n",
    "df=pd.read_csv(\"06g(r)_0.48.dat\", header=None, delimiter=r\"\\s+\", names=['RT', 'GDRTA'])\n",
    "    # Anotaciones: \n",
    "        # 1. header=None indica que las columnas no tienen encabezado.\n",
    "        # 2. names indica los nombres que se le asignarán a cada columna (el orden importa).\n",
    "        # 3. r\"\\s+\" indica que las columnas del archivo están separados por al menos un espacio.\n",
    "# ------------------------------------------------------------------------------------------------\n",
    "\n",
    "\n",
    "# MOSTRAR LOS PRIMEROS X = 5 NÚMEROS DEL ARCHIVO ---\n",
    "df.head(5)\n",
    "# --------------------------------------------------"
   ]
  },
  {
   "cell_type": "code",
   "execution_count": 90,
   "metadata": {},
   "outputs": [
    {
     "data": {
      "text/html": [
       "<div>\n",
       "<style scoped>\n",
       "    .dataframe tbody tr th:only-of-type {\n",
       "        vertical-align: middle;\n",
       "    }\n",
       "\n",
       "    .dataframe tbody tr th {\n",
       "        vertical-align: top;\n",
       "    }\n",
       "\n",
       "    .dataframe thead th {\n",
       "        text-align: right;\n",
       "    }\n",
       "</style>\n",
       "<table border=\"1\" class=\"dataframe\">\n",
       "  <thead>\n",
       "    <tr style=\"text-align: right;\">\n",
       "      <th></th>\n",
       "      <th>RT</th>\n",
       "      <th>GDRTA</th>\n",
       "    </tr>\n",
       "  </thead>\n",
       "  <tbody>\n",
       "    <tr>\n",
       "      <th>2000</th>\n",
       "      <td>1.00025</td>\n",
       "      <td>2.082937</td>\n",
       "    </tr>\n",
       "  </tbody>\n",
       "</table>\n",
       "</div>"
      ],
      "text/plain": [
       "           RT     GDRTA\n",
       "2000  1.00025  2.082937"
      ]
     },
     "execution_count": 90,
     "metadata": {},
     "output_type": "execute_result"
    }
   ],
   "source": [
    "# Construir un arreglo df1 que solo contenga información de la g(r*) en el intervalo [1,λ]. \n",
    "# Se debe seleccionar el rango en la instrucción \"....iloc[límite inferior-1, límite superior]\"\n",
    "df1 = df.iloc[2000:2501]\n",
    "df1.head(1)"
   ]
  },
  {
   "cell_type": "code",
   "execution_count": 91,
   "metadata": {},
   "outputs": [],
   "source": [
    "# DEFINICIÓN DE PARÁMETROS DE LA INTEGRAL --\n",
    "lam = 1.25\n",
    "TS1 = 1.0\n",
    "# ------------------------------------------"
   ]
  },
  {
   "cell_type": "markdown",
   "metadata": {},
   "source": [
    "# GRÁFICA Y AJUSTE"
   ]
  },
  {
   "cell_type": "code",
   "execution_count": 92,
   "metadata": {},
   "outputs": [
    {
     "data": {
      "image/png": "[encoded data removed]",
      "text/plain": [
       "<Figure size 648x432 with 1 Axes>"
      ]
     },
     "metadata": {
      "needs_background": "light"
     },
     "output_type": "display_data"
    },
    {
     "data": {
      "text/plain": [
       "array([ -1422.54251205,   8043.66290556, -18170.36516172,  20502.13326779,\n",
       "       -11560.26709152,   2609.47352923])"
      ]
     },
     "execution_count": 92,
     "metadata": {},
     "output_type": "execute_result"
    }
   ],
   "source": [
    "# TAMAÑO DE LA FIGURA -------\n",
    "fig = plt.gcf()\n",
    "fig.set_size_inches(9, 6)\n",
    "# ---------------------------\n",
    "\n",
    "\n",
    "# DATOS --------\n",
    "x=df1[u'RT']\n",
    "y=df1[u'GDRTA']\n",
    "# --------------\n",
    "\n",
    "\n",
    "# AJUSTE --------------------------------\n",
    "sols = {}\n",
    "for grado in range(1,6):\n",
    "  z = np.polyfit(x, y, grado, full=True)\n",
    "  sols[grado] = z\n",
    "# ---------------------------------------   \n",
    "\n",
    "\n",
    "# GRAFICAR DATOS ----\n",
    "plt.plot(x, y, 'o')\n",
    "# -------------------\n",
    "\n",
    "\n",
    "# ETIQUETAS ---------------------------------\n",
    "plt.xlabel('r*')\n",
    "plt.ylabel('g(r*)')\n",
    "plt.title('Función de distribución radial')\n",
    "# -------------------------------------------\n",
    "\n",
    "\n",
    "# AJUSTE DE POLINOMIO ----------------------------------------------------\n",
    "xp = np.linspace(1, 1.3, 100)\n",
    "for grado, sol in sols.items():\n",
    "  coefs, error, *_ = sol\n",
    "  p = np.poly1d(coefs)\n",
    "  plt.plot(xp, p(xp), \"-\", label=\"Grado: %s. Error %.3f\" % (grado, error) )\n",
    "# ------------------------------------------------------------------------\n",
    "\n",
    "\n",
    "# GRÁFICA -----\n",
    "plt.legend()\n",
    "plt.grid(True)\n",
    "plt.show()\n",
    "# -------------\n",
    "\n",
    "\n",
    "# IMPRIMIR COEFICIENTES DEL ÚLTIMO POLINOMIO FINAL AJUSTADO -\n",
    "coefs\n",
    "# -----------------------------------------------------------"
   ]
  },
  {
   "cell_type": "markdown",
   "metadata": {},
   "source": [
    "# INTEGRACIÓN USANDO EL AJUSTE POLINOMIAL DE GRADO 5 EN TODOS LOS CASOS"
   ]
  },
  {
   "cell_type": "code",
   "execution_count": 52,
   "metadata": {
    "scrolled": true
   },
   "outputs": [
    {
     "data": {
      "text/plain": [
       "(2.090137016255666, 2.3205182400683655e-14)"
      ]
     },
     "execution_count": 52,
     "metadata": {},
     "output_type": "execute_result"
    }
   ],
   "source": [
    "# Para n*=0.05\n",
    "I05 = lambda x: (2*np.pi/TS1)*(1504.91823576*x**5-8442.73901849*x**4+18919.00855902*x**3-21166.59938185*x**2+11822.80730982*x-2636.32878168)*x**2\n",
    "integrate.quad(I05, 1, lam)"
   ]
  },
  {
   "cell_type": "code",
   "execution_count": 53,
   "metadata": {},
   "outputs": [
    {
     "data": {
      "text/plain": [
       "(2.2049874209145757, 2.4480278037082033e-14)"
      ]
     },
     "execution_count": 53,
     "metadata": {},
     "output_type": "execute_result"
    }
   ],
   "source": [
    "# Para n*=0.1\n",
    "I1 = lambda x: (2*np.pi/TS1)*(1005.19346811*x**5-5590.59495031*x**4+12411.72021048*x**3-13748.59615434*x**2+7597.98899965*x-1674.5599930)*x**2\n",
    "integrate.quad(I1, 1, lam)"
   ]
  },
  {
   "cell_type": "code",
   "execution_count": 54,
   "metadata": {},
   "outputs": [
    {
     "data": {
      "text/plain": [
       "(2.3196738089115585, 2.5753552722735478e-14)"
      ]
     },
     "execution_count": 54,
     "metadata": {},
     "output_type": "execute_result"
    }
   ],
   "source": [
    "# Para n*=0.15\n",
    "I15 = lambda x: (2*np.pi/TS1)*(14.04216645*x**5-18.81086697*x**4-93.79018369*x**3+258.80323194*x**2-231.99137276*x+72.97727126)*x**2\n",
    "integrate.quad(I15, 1, lam)"
   ]
  },
  {
   "cell_type": "code",
   "execution_count": 55,
   "metadata": {},
   "outputs": [
    {
     "data": {
      "text/plain": [
       "(2.4326355503740342, 2.7007679985469426e-14)"
      ]
     },
     "execution_count": 55,
     "metadata": {},
     "output_type": "execute_result"
    }
   ],
   "source": [
    "# Para n*=0.2\n",
    "I2 = lambda x: (2*np.pi/TS1)*(845.93049472*x**5-4803.60236522*x**4+10894.57651095*x**3-12335.49868699*x**2+6971.89604353*x-1572.00239092)*x**2\n",
    "integrate.quad(I2, 1, lam)"
   ]
  },
  {
   "cell_type": "code",
   "execution_count": 56,
   "metadata": {},
   "outputs": [
    {
     "data": {
      "text/plain": [
       "(2.715141535923361, 3.0144126482982267e-14)"
      ]
     },
     "execution_count": 56,
     "metadata": {},
     "output_type": "execute_result"
    }
   ],
   "source": [
    "# Para n*=0.3\n",
    "I3 = lambda x: (2*np.pi/TS1)*(923.8379128*x**5-5274.78136546*x**4+12020.99857092*x**3-13666.92730461*x**2+7749.711087*x-1751.29930972)*x**2\n",
    "integrate.quad(I3, 1, lam)"
   ]
  },
  {
   "cell_type": "code",
   "execution_count": 57,
   "metadata": {},
   "outputs": [
    {
     "data": {
      "text/plain": [
       "(3.006869863548434, 3.338296154562974e-14)"
      ]
     },
     "execution_count": 57,
     "metadata": {},
     "output_type": "execute_result"
    }
   ],
   "source": [
    "# Para n*=0.4\n",
    "I4 = lambda x: (2*np.pi/TS1)*(-754.65421629*x**5+4263.97457056*x**4-9630.2651472*x**3+10870.19413844*x**2-6135.74497815*x+1388.32581706)*x**2\n",
    "integrate.quad(I4, 1, lam)"
   ]
  },
  {
   "cell_type": "code",
   "execution_count": 58,
   "metadata": {},
   "outputs": [
    {
     "data": {
      "text/plain": [
       "(3.321564138655029, 3.6876769845040396e-14)"
      ]
     },
     "execution_count": 58,
     "metadata": {},
     "output_type": "execute_result"
    }
   ],
   "source": [
    "# Para n*=0.5\n",
    "I5 = lambda x: (2*np.pi/TS1)*(574.09635904*x**5-3266.27719229*x**4+7415.05435616*x**3-8390.47221078*x**2+4725.81304481*x-1056.04290653)*x**2\n",
    "integrate.quad(I5, 1, lam)"
   ]
  },
  {
   "cell_type": "code",
   "execution_count": 59,
   "metadata": {},
   "outputs": [
    {
     "data": {
      "text/plain": [
       "(3.6461119683807555, 4.0479974576576656e-14)"
      ]
     },
     "execution_count": 59,
     "metadata": {},
     "output_type": "execute_result"
    }
   ],
   "source": [
    "# Para n*=0.6\n",
    "I6 = lambda x: (2*np.pi/TS1)*(-285.93590881*x**5+1644.315862*x**4-3787.92602733*x**3+4379.17535122*x**2-2550.60901053*x+603.6043672)*x**2\n",
    "integrate.quad(I6, 1, lam)"
   ]
  },
  {
   "cell_type": "code",
   "execution_count": 60,
   "metadata": {},
   "outputs": [
    {
     "data": {
      "text/plain": [
       "(3.980816426116075, 4.419594053080095e-14)"
      ]
     },
     "execution_count": 60,
     "metadata": {},
     "output_type": "execute_result"
    }
   ],
   "source": [
    "# Para n*=0.7\n",
    "I7 = lambda x: (2*np.pi/TS1)*(230.0501625*x**5-1231.22408621*x**4+2583.14242296*x**3-2624.8542146*x**2+1260.77958421*x-214.66244444)*x**2\n",
    "integrate.quad(I7, 1, lam)"
   ]
  },
  {
   "cell_type": "code",
   "execution_count": 61,
   "metadata": {},
   "outputs": [
    {
     "data": {
      "text/plain": [
       "(4.314747469517421, 4.790331986101371e-14)"
      ]
     },
     "execution_count": 61,
     "metadata": {},
     "output_type": "execute_result"
    }
   ],
   "source": [
    "# Para n*=0.8\n",
    "I8 = lambda x: (2*np.pi/TS1)*(-2619.78854465*x**5+14937.42024734*x**4-34100.55661014*x**3+38992.43165444*x**2-22358.74055802*x+5153.28192262)*x**2\n",
    "integrate.quad(I8, 1, lam)"
   ]
  },
  {
   "cell_type": "code",
   "execution_count": 62,
   "metadata": {},
   "outputs": [
    {
     "data": {
      "text/plain": [
       "(4.611734972234259, 5.120054349643531e-14)"
      ]
     },
     "execution_count": 62,
     "metadata": {},
     "output_type": "execute_result"
    }
   ],
   "source": [
    "# Para n*=0.9\n",
    "I9 = lambda x: (2*np.pi/TS1)*(-284.336686*x**5+2118.11826319*x**4-6131.8310566*x**3+8715.32802618*x**2-6126.8821223*x+1714.77535404)*x**2\n",
    "integrate.quad(I9, 1, lam)"
   ]
  },
  {
   "cell_type": "code",
   "execution_count": 63,
   "metadata": {},
   "outputs": [
    {
     "data": {
      "text/plain": [
       "(4.740457639892809, 5.2629652190692254e-14)"
      ]
     },
     "execution_count": 63,
     "metadata": {},
     "output_type": "execute_result"
    }
   ],
   "source": [
    "# Para n*=0.95\n",
    "I95 = lambda x: (2*np.pi/TS1)*(-3521.68051164*x**5+20426.04291411*x**4-47528.25336341*x**3+55515.69972882*x**2-32594.6506204*x+7708.71425152)*x**2\n",
    "integrate.quad(I95, 1, lam)"
   ]
  },
  {
   "cell_type": "markdown",
   "metadata": {},
   "source": [
    "# INTEGRACIÓN USANDO DIRECTAMENTE LOS DATOS"
   ]
  },
  {
   "cell_type": "code",
   "execution_count": 83,
   "metadata": {},
   "outputs": [
    {
     "data": {
      "text/plain": [
       "3.252807779282506"
      ]
     },
     "execution_count": 83,
     "metadata": {},
     "output_type": "execute_result"
    }
   ],
   "source": [
    "k = (2*np.pi/TS1)*df1[u'GDRTA']*x**2\n",
    "integrate.simps(k,x)"
   ]
  },
  {
   "cell_type": "code",
   "execution_count": null,
   "metadata": {},
   "outputs": [],
   "source": []
  }
 ],
 "metadata": {
  "kernelspec": {
   "display_name": "Python 3",
   "language": "python",
   "name": "python3"
  },
  "language_info": {
   "codemirror_mode": {
    "name": "ipython",
    "version": 3
   },
   "file_extension": ".py",
   "mimetype": "text/x-python",
   "name": "python",
   "nbconvert_exporter": "python",
   "pygments_lexer": "ipython3",
   "version": "3.7.3"
  }
 },
 "nbformat": 4,
 "nbformat_minor": 2
}
