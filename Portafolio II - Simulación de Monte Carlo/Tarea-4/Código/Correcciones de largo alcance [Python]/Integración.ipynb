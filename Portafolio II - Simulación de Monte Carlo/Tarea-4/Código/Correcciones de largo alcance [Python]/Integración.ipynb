{
 "cells": [
  {
   "cell_type": "markdown",
   "metadata": {},
   "source": [
    "# ¡ Cuando g(r*)=1 !\n",
    "\n",
    "## El potencial de interacción (DGM) está dado por\n",
    "$$\n",
    "u^{*}(r^{*})=\\frac{1}{T^{*}}\\mathrm{exp}\\left[-(r^{*})^{2} \\right]-\\frac{1}{\\kappa^{*}}\\mathrm{exp}\\left[ -\\left(r^{*}-3 \\right)^{2}\\right]\n",
    "$$\n",
    "\n",
    "## La corrección de largo alcance para la energía es,\n",
    "$$\n",
    "\\text{E}^{*}_{LRC}= 2\\pi n^{*}\\int_{R_{c}}^{\\infty}u^{*}(r^{*}) (r^{*})^{2} dr^{*},\n",
    "$$\n",
    "\n",
    "$$\n",
    "\\text{E}^{*}_{LRC}= 2\\pi n^{*}\\int_{R_{c}}^{\\infty}\\Big\\{ \\frac{1}{T^{*}}\\mathrm{exp}\\left[-r^{*^{2}} \\right]-\\frac{1}{\\kappa^{*}}\\mathrm{exp}\\left[ -\\left(r^{*}-3 \\right)^{2}\\right] \\Big\\}r^{*^{2}} dr^{*}.\n",
    "$$\n",
    "\n",
    "## La corrección de largo alcance para la presión es,\n",
    "$$\n",
    "    P^{*}_{LRC}=-\\frac{2}{3}\\pi n^{*}\\int_{R_{c}}^{\\infty}\\frac{du^{*}(r^{*})}{dr^{*}}(r^{*})^{3}dr^{*},\n",
    "$$\n",
    "\n",
    "$$\n",
    "\\text{P}_{LRC}^{*}=-\\frac{2}{3}\\pi n^{*}\\int_{R_{c}}^{\\infty}\\Big\\{-\\frac{2r^{*}}{T^{*}}\\mathrm{exp}\\left[-r^{*^{2}} \\right]+\\frac{2(r^{*}-3)}{\\kappa^{*}}\\mathrm{exp}\\left[-(r^{*}-3)^{2} \\right] \\Big\\}r^{*^{3}}dr^{*}\n",
    "$$\n"
   ]
  },
  {
   "cell_type": "code",
   "execution_count": 1,
   "metadata": {},
   "outputs": [],
   "source": [
    "# IMPORTAR CAJAS NEGRAS NECESARIAS\n",
    "import scipy.integrate as integrate\n",
    "import numpy as np"
   ]
  },
  {
   "cell_type": "code",
   "execution_count": 7,
   "metadata": {},
   "outputs": [],
   "source": [
    "# DEFINICIÓN DE PARÁMETROS\n",
    "N = 343\n",
    "n_star = 0.8\n",
    "BOXL=(N/n_star)**(1/3)\n",
    "RCUT=BOXL/2\n",
    "TS = 1.0\n",
    "KS = 0.0263"
   ]
  },
  {
   "cell_type": "code",
   "execution_count": 8,
   "metadata": {},
   "outputs": [],
   "source": [
    "# DEFINICIÓN DE FUNCIONES A INTEGRAR NUMERICAMENTE\n",
    "\n",
    "# Para la corrección a la energía\n",
    "I1 = lambda r: 2*np.pi*n_star*((1/TS)*(r**2)*np.exp(-r**2)-(KS)*(r**2)*np.exp(-(r-3)**2))\n",
    "\n",
    "# Para la corrección a la presión\n",
    "I2 = lambda r: -(2/3)*np.pi*n_star*(-(2/TS)*(r**4)*np.exp(-r**2)+((2*(r-3)*(r**3))*KS)*np.exp(-(r-3)**2))"
   ]
  },
  {
   "cell_type": "code",
   "execution_count": 9,
   "metadata": {},
   "outputs": [
    {
     "data": {
      "text/plain": [
       "(-0.5544466719733655, 6.268189660005501e-09)"
      ]
     },
     "execution_count": 9,
     "metadata": {},
     "output_type": "execute_result"
    }
   ],
   "source": [
    "integrate.quad(I1, RCUT, np.inf)"
   ]
  },
  {
   "cell_type": "code",
   "execution_count": 10,
   "metadata": {},
   "outputs": [
    {
     "data": {
      "text/plain": [
       "(-1.8592073348766245, 3.569865499627373e-09)"
      ]
     },
     "execution_count": 10,
     "metadata": {},
     "output_type": "execute_result"
    }
   ],
   "source": [
    "integrate.quad(I2, RCUT, np.inf)"
   ]
  },
  {
   "cell_type": "code",
   "execution_count": null,
   "metadata": {},
   "outputs": [],
   "source": []
  }
 ],
 "metadata": {
  "kernelspec": {
   "display_name": "Python 3",
   "language": "python",
   "name": "python3"
  },
  "language_info": {
   "codemirror_mode": {
    "name": "ipython",
    "version": 3
   },
   "file_extension": ".py",
   "mimetype": "text/x-python",
   "name": "python",
   "nbconvert_exporter": "python",
   "pygments_lexer": "ipython3",
   "version": "3.7.1"
  }
 },
 "nbformat": 4,
 "nbformat_minor": 2
}
